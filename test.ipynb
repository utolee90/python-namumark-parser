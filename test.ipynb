{
 "cells": [
  {
   "cell_type": "code",
   "execution_count": 1,
   "metadata": {
    "collapsed": true
   },
   "outputs": [
    {
     "name": "stdout",
     "output_type": "stream",
     "text": [
      "hello\n"
     ]
    }
   ],
   "source": [
    "print(\"hello\")"
   ]
  },
  {
   "cell_type": "code",
   "execution_count": 2,
   "metadata": {
    "collapsed": false,
    "pycharm": {
     "name": "#%%\n"
    }
   },
   "outputs": [],
   "source": [
    "import re\n",
    "\n",
    "list_tag = [\n",
    "            ['*', 'ul'],\n",
    "            ['1.', 'ol class=\"decimal\"'],\n",
    "            ['A.', 'ol class=\"upper-alpha\"'],\n",
    "            ['a.', 'ol class=\"lower-alpha\"'],\n",
    "            ['I.', 'ol class=\"upper-roman\"'],\n",
    "            ['i.', 'ol class=\"lower-roman\"'],\n",
    "        ]\n",
    "\n",
    "# function for list_parser\n",
    "def list_parser(text:str):\n",
    "    global list_tag\n",
    "    list_table = []\n",
    "    open_tag_list = []\n",
    "    lines = text.split('\\n')\n",
    "    res = ''\n",
    "\n",
    "    # 파싱 준비\n",
    "    for list_line in lines:\n",
    "        # 공백 갯수\n",
    "        res_line = list_line_parser(list_line)\n",
    "        list_table.append(res_line)\n",
    "\n",
    "    # 레벨 숫자\n",
    "    lvl = 0\n",
    "    tgn = ''\n",
    "    for tbl in list_table:\n",
    "        # 같은 레벨, 같은 태그명\n",
    "        if lvl == tbl['level'] and tgn == tbl['type']:\n",
    "            res += f\"<li>{tbl['preparsed']}</li>\\n\"\n",
    "        # 같은 레벨, 태그명만 다를 때\n",
    "        elif lvl == tbl['level'] and tgn != tbl['type']:\n",
    "            # 태그 닫기\n",
    "            res += f\"</{tgn[0:2]}>\\n\"\n",
    "            tgn = tbl['type']\n",
    "            open_tag_list[-1] = tgn\n",
    "            res += f\"<{tbl['type']}>\\n\"\n",
    "            res += f\"<li>{tbl['preparsed']}</li>\\n\"\n",
    "        # 레벨값보다 수준이 더 클 때\n",
    "        elif lvl +1 == tbl['level']:\n",
    "            res += f\"<{tbl['type']}>\\n\"\n",
    "            res += f\"<li>{tbl['preparsed']}</li>\\n\"\n",
    "            lvl = tbl['level']\n",
    "            tgn = tbl['type']\n",
    "            open_tag_list.append(tbl['type'])\n",
    "        # 레벨값보다 수준이 더 작을 때\n",
    "        elif lvl > tbl['level']:\n",
    "            for tn in open_tag_list[:tbl['level']-1:-1]:\n",
    "                res += f\"</{tn[0:2]}>\\n\"\n",
    "\n",
    "            open_tag_list = open_tag_list[0:tbl['level']]\n",
    "            lvl = tbl['level']\n",
    "\n",
    "            if open_tag_list[-1] == tbl['type']:\n",
    "                res += f\"<li>{tbl['preparsed']}</li>\\n\"\n",
    "                tgn = tbl['type']\n",
    "            else:\n",
    "                res += f\"</{open_tag_list[-1][0:2]}>\\n\"\n",
    "                res += f\"<{tbl['type']}>\\n\"\n",
    "                res += f\"<li>{tbl['preparsed']}</li>\\n\"\n",
    "                tgn = tbl['type']\n",
    "\n",
    "    # 마지막으로 남아있으면...\n",
    "    for tgx in open_tag_list[::-1]:\n",
    "        res += f\"</{tgx[0:2]}>\\n\"\n",
    "\n",
    "    return res\n",
    "\n",
    "# parse a line\n",
    "def list_line_parser(text:str):\n",
    "    res = {}\n",
    "    # 공백 갯수\n",
    "    spacing = len(re.match(r\"^(\\s{1,5})\", text).group(1))\n",
    "    res['level'] = spacing\n",
    "    if text[spacing] == \"*\":\n",
    "        res['type'] = 'ul'\n",
    "        res['preparsed'] = text[spacing+1:]\n",
    "    else:\n",
    "        for tg in list_tag[1:]:\n",
    "            if text[spacing:spacing+2] == tg[0]:\n",
    "                res['type'] = tg[1]\n",
    "                res['preparsed'] = text[spacing+2:]\n",
    "                break\n",
    "    return res"
   ]
  },
  {
   "cell_type": "code",
   "execution_count": 4,
   "metadata": {
    "collapsed": false,
    "pycharm": {
     "name": "#%%\n"
    }
   },
   "outputs": [
    {
     "data": {
      "text/plain": [
       "{'level': 1, 'type': 'ul', 'preparsed': ' 텍스트'}"
      ]
     },
     "execution_count": 4,
     "metadata": {},
     "output_type": "execute_result"
    }
   ],
   "source": [
    "list_line_parser(' * 텍스트')"
   ]
  },
  {
   "cell_type": "code",
   "execution_count": 5,
   "metadata": {
    "collapsed": false,
    "pycharm": {
     "name": "#%%\n"
    }
   },
   "outputs": [
    {
     "data": {
      "text/plain": [
       "'<ul>\\n<li> 첫나라</li>\\n<li> 두나라</li>\\n<li>\\n<ol class=\"decimal\">\\n<li> 두나라1</li>\\n<li> 두나라2</li>\\n</ol>\\n<li> 세나라</li>\\n</ul>\\n'"
      ]
     },
     "execution_count": 5,
     "metadata": {},
     "output_type": "execute_result"
    }
   ],
   "source": [
    "list_parser(''' * 첫나라\n",
    " * 두나라\n",
    "  1. 두나라1\n",
    "  1. 두나라2\n",
    " * 세나라''')"
   ]
  },
  {
   "cell_type": "code",
   "execution_count": 7,
   "metadata": {
    "collapsed": false,
    "pycharm": {
     "name": "#%%\n"
    }
   },
   "outputs": [],
   "source": [
    "import re\n",
    "import datetime\n",
    "\n",
    "# no multi line processor (한줄 안에 파싱하기)\n",
    "# 문법기호 확인\n",
    "# 파싱할 문법 - {{{, ~~, --, __, ^^, ,,\n",
    "\n",
    "symbol_emphasis = {\n",
    "    \"{{{#\": {\"o\": \"{{{#\", \"c\": \"}}}\"},\n",
    "    \"{{{\": {\"o\": \"{{{\", \"c\": \"}}}\"},\n",
    "    \"~~\": {\"o\": \"~~\", \"c\": \"~~\"},\n",
    "    \"--\": {\"o\": \"--\", \"c\": \"--\"},\n",
    "    \"__\": {\"o\": \"__\", \"c\": \"__\"},\n",
    "    \"^^\": {\"o\": \"^^\", \"c\": \"^^\"},\n",
    "    \",,\": {\"o\": \",,\", \"c\": \",,\"},\n",
    "    \"[*\": {\"o\": \"[*\", \"c\": \"]\"},\n",
    "    \"[[\": {\"o\": \"[[\", \"c\": \"]]\"}\n",
    "}\n",
    "\n",
    "# [매크로] 목록\n",
    "\n",
    "\n",
    "# [매크로] 입력시 처리\n",
    "def macro_processor(text):\n",
    "\n",
    "    const_macro_list = {\n",
    "        \"br\": \"<br />\",\n",
    "        \"date\": \"{{#timel:Y-m-d H:i:sP}}\",\n",
    "        \"datetime\": \"{{#timel:Y-m-d H:i:sP}}\",\n",
    "        \"목차\": \"__TOC__\", #일단 표시. 그러나 목차 길이가 충분히 길면 지울 생각\n",
    "        \"tableofcontents\": \"__TOC__\",\n",
    "        \"각주\": \"{{각주}}\",\n",
    "        \"footnote\": \"{{각주}}\",\n",
    "        \"clearfix\": \"{{-}}\"\n",
    "    }\n",
    "    # 단순 텍스트일 때\n",
    "    if text in const_macro_list.keys():\n",
    "        return const_macro_list[text]\n",
    "\n",
    "    # 만 나이 표시\n",
    "    elif re.match(r\"age\\(\\d\\d\\d\\d-\\d\\d-\\d\\d\\)\", text):\n",
    "        yr = re.match(r\"age\\((\\d\\d\\d\\d)-(\\d\\d)-(\\d\\d)\\)\", text).group(1)\n",
    "        mn = re.match(r\"age\\((\\d\\d\\d\\d)-(\\d\\d)-(\\d\\d)\\)\", text).group(2)\n",
    "        dy = re.match(r\"age\\((\\d\\d\\d\\d)-(\\d\\d)-(\\d\\d)\\)\", text).group(3)\n",
    "        return f\"{{{{#expr: {{{{현재년}}}} - {yr} - ({{{{현재월}}}} <= {mn} and {{{{현재일}}}} < {dy})}}}}\"\n",
    "\n",
    "    # 잔여일수/경과일수 표시\n",
    "    elif re.match(r\"dday\\(\\d\\d\\d\\d-\\d\\d-\\d\\d\\)\", text):\n",
    "        yr = re.match(r\"dday\\((\\d\\d\\d\\d)-(\\d\\d)-(\\d\\d)\\)\", text).group(1)\n",
    "        mn = re.match(r\"dday\\((\\d\\d\\d\\d)-(\\d\\d)-(\\d\\d)\\)\", text).group(2)\n",
    "        dy = re.match(r\"dday\\((\\d\\d\\d\\d)-(\\d\\d)-(\\d\\d)\\)\", text).group(3)\n",
    "\n",
    "        return f\"{{{{#ifexpr:{{{{#time:U|now}}}} - {{{{#time:U|{yr}-{mn}-{dy}}}}}>0|+}}}}{{{{#expr:floor (({{{{#time:U|now}}}} - {{{{#time:U|{yr}-{mn}-{dy}}}}})/86400)}}}}\"\n",
    "\n",
    "    # 수식 기호\n",
    "    elif re.match(r\"math\\((.*)\\)\", text):\n",
    "        tex = re.match(r\"math\\((.*)\\)\", text).group(1)\n",
    "        return f\"<math>{tex}</math>\"\n",
    "\n",
    "    # 앵커 기호\n",
    "    elif re.match(r\"anchor\\((.*)\\)\", text):\n",
    "        aname = re.match(r\"anchor\\((.*)\\)\", text).group(1)\n",
    "        return f\"<span id='{aname}></span>\"\n",
    "\n",
    "    # 나머지\n",
    "    else:\n",
    "        return text"
   ]
  },
  {
   "cell_type": "code",
   "execution_count": 9,
   "metadata": {
    "pycharm": {
     "name": "#%%\n"
    }
   },
   "outputs": [],
   "source": [
    "# 링크 프로세서\n",
    "def link_processor(link, text):\n",
    "    # 외부 링크\n",
    "    if re.match(r\"https?://(.*)\", link):\n",
    "        return f\"{link}\" if text == \"\" else f\"[{link} {line_parser(text)}]\"\n",
    "    # 문단기호 링크에 대비\n",
    "    # elif re.match(r\"$(.*?)#s\\-(.*)\", link):\n",
    "    #     article = re.match(r\"$(.*?)#s\\-(.*)\", link).group(1)\n",
    "    #     paragraph = re.match(r\"$(.*?)#s\\-(.*)\", link).group(2)\n",
    "    #     paragraph_list = paragraph.split(\".\")\n",
    "    #     paragraph_name = find_paragraph_by_index(paragraph_list)\n",
    "    #     return f\"[[{article}#{paragraph_name}]]\" if text == \"\" else f\"[[{article}#{paragraph_name}|{line_parser(text)}]]\"\n",
    "    #\n",
    "    else:\n",
    "        return f\"[[{link}]]\" if text == \"\" else f\"[[{link}|{line_parser(text)}]]\""
   ]
  },
  {
   "cell_type": "code",
   "execution_count": 12,
   "metadata": {
    "pycharm": {
     "name": "#%%\n"
    }
   },
   "outputs": [],
   "source": [
    "import re\n",
    "from template import WEB_COLOR_LIST\n",
    "\n",
    "def line_parser(text: str):\n",
    "    r = 0\n",
    "    res = \"\"\n",
    "    parsing_symbol = ['{', \"[\", '~', '-', '_', '^', ',']\n",
    "    # 낱말별로 검사\n",
    "    while r<len(text):\n",
    "        letter = text[r]\n",
    "        if letter in parsing_symbol:\n",
    "            # 색깔 표현\n",
    "            if letter == \"{\" and re.match(r\"\\{\\{\\{#(.*?) (.*?)\\}\\}\\}\", text[r:]):\n",
    "                color = re.match(r\"\\{\\{\\{#(.*?) (.*?)\\}\\}\\}\", text[r:]).group(1)\n",
    "                parsed = re.match(r\"\\{\\{\\{#(.*?) (.*?)\\}\\}\\}\", text[r:]).group(2)\n",
    "                r += 8+ len(color) + len(parsed) # r값 늘리기\n",
    "                if re.match(r\"[0-9A-Fa-f]{6}\", color):\n",
    "                    res += f\"{{{{색|#{color}|{line_parser(parsed)}}}}}\"\n",
    "                elif re.match(r\"[0-9A-Fa-f]{3}\", color):\n",
    "                    res += f\"{{{{색|#{color}|{line_parser(parsed)}}}}}\"\n",
    "                elif color in WEB_COLOR_LIST.keys():\n",
    "                    res += f\"{{{{색|#{WEB_COLOR_LIST[color]}|{line_parser(parsed)}}}}}\"\n",
    "                else: # 일단은 <nowiki>로 처리\n",
    "                    res +=f\"<nowiki>#{color} {parsed}</nowiki>\"\n",
    "            # 글씨 키우기/줄이기\n",
    "            elif letter == \"{\" and re.match(r\"\\{\\{\\{(+|-)([1-5]) (.*?)}}}\", text[r:]):\n",
    "                sizer = re.match(r\"\\{\\{\\{(+|-)([1-5]) (.*?)}}}\", text[r:]).group(1)\n",
    "                num = int(re.match(r\"\\{\\{\\{(+|-)([1-5]) (.*?)}}}\", text[r:]).group(2))\n",
    "                parsed = re.match(r\"\\{\\{\\{(+|-)([1-5]) (.*?)}}}\", text[r:]).group(3)\n",
    "                r += 9 + len(parsed)\n",
    "                base = line_parser(parsed)\n",
    "                for _ in range(num):\n",
    "                    base = \"<big>\"+base+\"</big>\" if sizer == \"+\" else \"<small>\"+base+\"</small>\"\n",
    "                res +=base\n",
    "\n",
    "            # 문법 무시\n",
    "            elif letter == \"{\" and re.match(r\"\\{\\{\\{(.*?)}}}\", text[r:]):\n",
    "                parsed = re.match(r\"\\{\\{\\{(.*?)\\}\\}\\}\", text[r:]).group(1)\n",
    "                r += 6+len(parsed)\n",
    "                res += f\"<nowiki>{parsed}</nowiki>\"\n",
    "\n",
    "            # 각주. 각주 내 각주 기호가 있을 경우 오류가 생길 수 있으므로 나중에 해결할 예정.\n",
    "            elif letter == \"[\" and re.match(r\"\\[\\*(.*?) (.*?)]\", text[r:]):\n",
    "                refname = re.match(r\"\\[\\*(.*?) (.*?)]\", text[r:]).group(1)\n",
    "                refcont = re.match(r\"\\[\\*(.*?) (.*?)]\", text[r:]).group(2)\n",
    "                r += 4+len(refname)+len(refcont)\n",
    "                if refname == \"\":\n",
    "                    res += f\"<ref>{line_parser(refcont)}</ref>\"\n",
    "                else:\n",
    "                    res ++ f\"<ref name=\\\"{refname}\\\">{line_parser(refcont)}</ref>\"\n",
    "            # 링크 처리 - 외부링크, 내부링크 공통처리\n",
    "            elif letter == \"[\" and re.match(r\"\\[\\[(.*?)]]\", text[r:]):\n",
    "                article =  re.match(r\"\\[\\[(.*?)(\\|.*?)?]]\", text[r:]).group(1)\n",
    "                cont = re.match(r\"\\[\\[(.*?)(\\|.*?)?]]\", text[r:]).group(2)[1:]\n",
    "                r += len(re.match(r\"\\[\\[(.*?)]]\", text[r:]).group(0))\n",
    "                res += link_processor(article, cont)\n",
    "\n",
    "            # 매크로\n",
    "            elif letter == \"[\" and re.match(r\"\\[([^\\[*].*?)]\", text[r:]):\n",
    "                cont = re.match(r\"\\[(.*?)\\]\", text[r:]).group(1)\n",
    "                r += 2+ len(cont)\n",
    "                res += macro_processor(cont)\n",
    "\n",
    "            # 취소선1\n",
    "            elif letter == \"~\" and re.match(r\"~~(.*?)~~\", text[r:]):\n",
    "                cont = re.match(r\"~~(.*?)~~\", text[r:]).group(1)\n",
    "                r += 4+len(cont)\n",
    "                res += f\"<del>{line_parser(cont)}</del>\"\n",
    "\n",
    "            # 취소선2\n",
    "            elif letter == \"-\" and re.match(r\"\\-\\-(.*?)\\-\\-\", text[r:]):\n",
    "                cont = re.match(r\"\\-\\-(.*?)\\-\\-\", text[r:]).group(1)\n",
    "                r += 4+len(cont)\n",
    "                res += f\"<del>{line_parser(cont)}</del>\"\n",
    "\n",
    "            # 밑줄\n",
    "            elif letter == \"_\" and re.match(r\"__(.*?)__\", text[r:]):\n",
    "                cont = re.match(r\"__(.*?)__\", text[r:]).group(1)\n",
    "                r += 4+len(cont)\n",
    "                res += f\"<u>{line_parser(cont)}</u>\"\n",
    "\n",
    "            # 위 첨자\n",
    "            elif letter == \"^\" and re.match(r\"\\^\\^(.*?)\\^\\^\", text[r:]):\n",
    "                cont = re.match(r\"\\^\\^(.*?)\\^\\^\", text[r:]).group(1)\n",
    "                r += 4+len(cont)\n",
    "                res += f\"<sup>{line_parser(cont)}</sup>\"\n",
    "\n",
    "            # 아래첨자\n",
    "            elif letter == \",\" and re.match(r\",,(.*?),,\", text[r:]):\n",
    "                cont = re.match(r\",,(.*?)^^\", text[r:]).group(1)\n",
    "                r += 4+len(cont)\n",
    "                res += f\"<sub>{line_parser(cont)}</sub>\"\n",
    "\n",
    "            # 나머지\n",
    "            else:\n",
    "                res +=letter\n",
    "                r +=1\n",
    "        else:\n",
    "            res +=letter\n",
    "            r +=1\n",
    "\n",
    "# 개행 없을 때 symbol로 구성 나누기"
   ]
  },
  {
   "cell_type": "code",
   "execution_count": 22,
    "    return res"
   ]
  },
  {
   "cell_type": "code",
   "execution_count": 14,
   "metadata": {
    "pycharm": {
     "name": "#%%\n"
    }
   },
   },
   "outputs": [
    {
     "data": {
      "text/plain": [
       "'각주도 쓸 수 있어요<ref>이렇게 <u>밑줄도 긋고</u></ref>'"
      ]
     },
     "execution_count": 14,
     "metadata": {},
     "output_type": "execute_result"
    }
   ],
   "source": [
    "line_parser(\"각주도 쓸 수 있어요[* 이렇게 __밑줄도 긋고__]\")"
   ]
  },
  {
   "cell_type": "code",
   "execution_count": 15,
   "metadata": {},
   "outputs": [],
   "source": [
    "list_table = [\n",
    "    {\"type\": \"ul\", \"preparsed\": \"111\", \"level\": 1},\n",
    "    {\"type\": \"ul\", \"preparsed\": \"1112\", \"level\": 2},\n",
    "    {\"type\": \"ul\", \"preparsed\": \"1113\", \"level\": 2},\n",
    "    {\"type\": \"ol class=\\\"decimal\\\"\", \"preparsed\": \"111#\", \"level\": 2},\n",
    "    {\"type\": \"ol class=\\\"decimal\\\"\", \"preparsed\": \"111#\", \"level\": 2},\n",
    "    {\"type\": \"ul\", \"preparsed\": \"111#\", \"level\": 1},\n",
    "]\n",
    "\n",
    "list_table_set = set(map(lambda x: x['type'], list_table))"
   ]
  },
  {
   "cell_type": "code",
   "execution_count": 17,
   "metadata": {},
   "outputs": [
    {
     "data": {
      "text/plain": [
       "'<math>\\x0crac{4}{5}</math>'"
      ]
     },
     "execution_count": 22,
     "metadata": {},
     "output_type": "execute_result"
    }
   ],
   "source": [
    "macro_processor('math(\\frac{4}{5})')"
   ]
  },
  {
   "cell_type": "code",
   "execution_count": 100,
   "metadata": {},
   "outputs": [],
   "source": [
    "import re\n",
    "# 나무마크 표 파싱 및 미디어위키 표로 변환\n",
    "# text 파라미터는 파싱할 표 부분의 문자열이 들어감\n",
    "# \n",
    "# TODO: 정규표현식 최적화, 셀 꾸미기 및 이미지/동영상 삽입 개선\n",
    "def convert_to_mw_table(text:str):\n",
    "    # [br] -> <br>로 바꾸기\n",
    "    while re.search(r\"\\[br\\]\", text) and re.search(r\"\\[br\\]\", text).start() != -1:\n",
    "        matchstart = re.search(r\"\\[br\\]\", text).start()\n",
    "        matchend = re.search(r\"\\[br\\]\",text).end()\n",
    "        text = text[0:matchstart] + \"<br>\" + text[matchend:]\n",
    "    # 엔터키 개행은 \\n 문자를 하나 더 추가\n",
    "    regex_2 = re.compile(r\"([^\\n\\|]+)\\n([^\\n\\|]+)\")\n",
    "    if regex_2.search(text):\n",
    "        substrings = regex_2.search(text).groups()\n",
    "        first = regex_2.search(text).start()\n",
    "        lastend = regex_2.search(text).end()\n",
    "        lastword = text[lastend+1:]\n",
    "        text = text[0:first]\n",
    "        for substring in substrings:\n",
    "            text = text + substring + \"\\n\\n\"\n",
    "        text = text + lastword\n",
    "    print(text)\n",
    "    print(\"----------\")\n",
    "    # 셀 병합 및 '{| class=\"wikitable\", '|+' |', '|-', '|}'등의 기호로 변형 : 최종 작업 단계\n",
    "    result = \"{| class=\\\"wikitable\\\" \"\n",
    "    rowmergingcell = 0\n",
    "    RowMergingCellNum = 0\n",
    "    Firstchar = True\n",
    "    while (re.match(r\"\\|\", text)):\n",
    "        if (re.match(r\"\\|([^\\|\\n]+)\\|\", text)):\n",
    "            result += \"\\n|+ \" + text[re.match(r\"\\|([^\\|\\n]+)\\|\", text).start()+1:re.match(r\"\\|([^\\|\\n]+)\\|\", text).end()-1]\n",
    "            text = \"||\" + text[re.match(r\"\\|([^\\|\\n]+)\\|\", text).end():]\n",
    "        elif (re.match(r\"\\|\\|([\\|]+)(\\<\\|[0-9]+\\>)?([^\\n]+)(\\|\\|\\n)?\", text)): # 여러 개의 | 문자로 가로 병합하는 경우 또는 세로 병합을 위한 더미 셀 추가\n",
    "            if RowMergingCellNum > 0: # 더미 셀이 필요함\n",
    "                for i in range(0, RowMergingCellNum):\n",
    "                    result += \"\\n| style=\\\"display:none\\\" | \"\n",
    "                RowMergingCellNum = 0\n",
    "            elif re.search(r\"\\|\\|([\\|]+)\\<\\|[0-9]+\\>([^\\|]+)\", text): # 가로 -> 세로 병합\n",
    "                rowmergingcell = (re.match(r\"\\|\\|([\\|]+)\",text).end() - re.match(r\"\\|\\|([\\|]+)\",text).start()) // 2\n",
    "                result += \"\\n| colspan=\\\"\"+ str(rowmergingcell) + \"\\\" rowspan=\\\"\"+ text[re.search(r\"\\<\\|[0-9]+\\>\", text).start()+2:re.search(r\"\\<\\|[0-9]+\\>\",text).end()-1] +\"\\\" | \"\n",
    "                result += text[re.search(r\"<\\|([0-9]+)\\>\", text).end():re.search(r\"<\\|([0-9]+)\\>([^\\|]+)\", text).end()]\n",
    "                rowmergingcell = 0\n",
    "            else: # 가로 병합\n",
    "                rowmergingcell = (re.match(r\"\\|\\|([\\|]+)\",text).end() - re.match(r\"\\|\\|([\\|]+)\",text).start()) // 2\n",
    "                result += \"\\n| colspan=\\\"\"+ str(rowmergingcell) + \"\\\" | \"\n",
    "                rowmergingcell = 0\n",
    "                result += text[re.match(r\"\\|\\|([\\|]+)\", text).end():re.match(r\"\\|\\|([\\|]+)([^\\|\\n]+)\", text).end()]\n",
    "            text = text[re.match(r\"\\|\\|([\\|]+)(\\<\\|[0-9]+\\>)*([^\\|\\n]+)\",text).end():]\n",
    "            if (text == \"\"):\n",
    "                result += \"\\n|}\"\n",
    "        elif re.match(r\"\\|\\|([\\|]+)\\n\", text): # 가로 병합 때 버려질 셀들을 처리\n",
    "            rowmergingcell = (re.match(r\"\\|\\|([\\|]+)\",text).end() - re.match(r\"\\|\\|([\\|]+)\",text).start()) // 2\n",
    "            for i in range(0, rowmergingcell+1):\n",
    "                if i == 0:\n",
    "                    result += \"\\n| style=\\\"display:none\\\" | \"\n",
    "            rowmergingcell = 0\n",
    "            result += \"\\n|-\"\n",
    "            text = text[re.match(r\"\\|\\|([\\|])+\\n\", text).end():]\n",
    "            if (text == \"\"):\n",
    "                result += \"\\n|}\"\n",
    "        elif re.match(r\"\\|\\|\\<\\|[0-9]+\\>(\\<\\-[0-9]+\\>|\\|\\|([\\|]*))\",text):\n",
    "            # col - row merge\n",
    "            if Firstchar:\n",
    "                result += \"\\n| \"\n",
    "                Firstchar = False\n",
    "            else:\n",
    "                result += \"|| \"\n",
    "            # now put in the spanning part\n",
    "            result += \"rowspan=\\\"\" + text[re.search(r\"\\<\\|([0-9]+)\\>\", text).start()+2:re.search(r\"\\<\\|([0-9]+)\\>\",text).end()-1] + \"\\\" \" \n",
    "            if re.search(r\"\\|\\|([\\|]+)\", text[2:]):\n",
    "                rowmergingcell += (re.match(r\"\\|\\|([\\|]+)\", text[2:]).end() - re.match(r\"\\|\\|([\\|]+)\", text[2:]).start() ) // 2\n",
    "                result += \"colspan=\\\"\" + str(rowmergingcell) + \"\\\" | \"\n",
    "                RowMergingCellNum += rowmergingcell\n",
    "                rowmergingcell = 0\n",
    "            else:\n",
    "                result += \"colspan=\\\"\" + text[re.search(r\"\\<\\-[0-9]+\\>\", text).start()+2:re.search(r\"\\<\\-[0-9]+\\>\",text).end()-1] + \"\\\" | \"\n",
    "            # put in the context\n",
    "            result += text[re.search(r\"\\<\\-[0-9]+\\>\",text).end():re.search(r\"\\<\\-[0-9]+\\>[^\\|]+\",text).end()] + \" |\" + text[re.search(r\"\\<\\-[0-9]+\\>\",text).end():re.search(r\"\\<\\-[0-9]+\\>[^\\|]+\",text).end()] + \" |\"\n",
    "            text = text[re.search(r\"\\<\\-[0-9]+\\>[^\\|]+\",text).end():]\n",
    "        elif re.match(r\"\\|\\|(<\\-[0-9]+\\>|[\\|]+)\\<\\|[0-9]+\\>\",text):\n",
    "            # row - col merge\n",
    "            if Firstchar:\n",
    "                result += \"\\n| \"\n",
    "                Firstchar = False\n",
    "            else:\n",
    "                result += \"|| \"\n",
    "            # now put in the spanning part\n",
    "            if re.search(r\"\\|\\|([\\|]+)\",text):\n",
    "                rowmergingcell += (re.match(r\"\\|\\|([\\|]+)\", text).end() - re.match(r\"\\|\\|([\\|]+)\", text).start() ) // 2\n",
    "                result += \"colspan=\\\"\" + str(rowmergingcell) + \"\\\" \"\n",
    "                rowmergingcell = 0\n",
    "            else:\n",
    "                result += \"colspan=\\\"\" + text[re.search(r\"\\<\\-([0-9]+)\\>\", text).start()+2:re.search(r\"\\<\\-([0-9]+)\\>\",text).end()-1] + \"\\\" \"\n",
    "            # put in the context with row spanning part\n",
    "            result += \"rowspan=\\\"\" + text[re.search(r\"\\<\\|[0-9]+\\>\", text).start()+2:re.search(r\"\\<\\|[0-9]+\\>\",text).end()-1] + \"\\\" | \" + text[re.search(r\"\\<\\|[0-9]+\\>\",text).end():re.search(r\"\\<\\|[0-9]+\\>[^\\|]+\",text).end()]\n",
    "            text = text[re.search(r\"\\<\\|[0-9]+\\>[^\\|]+\",text).end():]\n",
    "        elif re.match(r\"\\|\\|\\<\\|[0-9]+\\>\",text): # 세로 병합 기호 단독\n",
    "            if Firstchar:\n",
    "                result += \"\\n| \"\n",
    "                Firstchar = False\n",
    "            else:\n",
    "                result += \"|| \"\n",
    "            result += \"rowspan=\\\"\" + text[re.match(r\"\\|\\|\\<\\|[0-9]+\\>\", text).start()+4:re.match(r\"\\|\\|\\<\\|[0-9]+\\>\",text).end()-1] + \"\\\" | \" + text[re.match(r\"\\|\\|\\<\\|[0-9]+\\>\",text).end():re.match(r\"\\|\\|\\<\\|[0-9]+\\>[^\\|]+\",text).end()]\n",
    "            text = text[re.match(r\"\\|\\|\\<\\|[0-9]+\\>([^\\|]+)\",text).end():]\n",
    "        elif re.match(r\"\\|\\|\\<\\-[0-9]+\\>\",text): # 가로 병합 기호 단독\n",
    "            if Firstchar:\n",
    "                result += \"\\n| \"\n",
    "                Firstchar = False\n",
    "            else:\n",
    "                result += \"|| \"\n",
    "            result += \"colspan=\\\"\" + text[re.match(r\"\\|\\|\\<\\-[0-9]+\\>\", text).start()+4:re.match(r\"\\|\\|\\<\\-[0-9]+\\>\",text).end()-1] + \"\\\" | \" + text[re.match(r\"\\|\\|\\<\\-[0-9]+\\>\",text).end():re.match(r\"\\|\\|\\<\\-[0-9]+\\>[^\\|]+\",text).end()]\n",
    "            text = text[re.match(r\"\\|\\|\\<\\-[0-9]+\\>[^\\|]+\",text).end():]\n",
    "        elif re.match(r\"\\|\\|([^\\|\\n]+)\",text): # 평범한 셀 내용\n",
    "            result += \"\\n\" + text[re.match(r\"\\|\\|([^\\|\\n]+)\",text).start()+1:re.match(r\"\\|\\|([^\\|\\n]+)\",text).end()]\n",
    "            text = text[re.match(r\"\\|\\|([^\\|\\n]+)\",text).end():]\n",
    "        elif (re.match(r\"\\|\\|\\n\", text)): # 개행\n",
    "            result += \"\\n| style=\\\"display:none\\\" |  \\n|-\"\n",
    "            Firstchar = True\n",
    "            text = text[re.match(r\"\\|\\|\\n\",text).end():]\n",
    "            if (text == \"\"):\n",
    "                result += \"|}\"\n",
    "        elif (re.match(r\"\\|\\|\",text)):\n",
    "            result += \"\\n|}\"\n",
    "            text = text[2:]\n",
    "        print(text) # debug\n",
    "    #  삽입\n",
    "    text = result\n",
    "    # 최종 확인\n",
    "    print(text)\n",
    "    return text\n",
    "\n",
    "    "
   ]
  },
  {
   "cell_type": "code",
   "execution_count": 102,
   "metadata": {},
   "outputs": [
    {
     "name": "stdout",
     "output_type": "stream",
     "text": [
      "|캡션| 여백 || 여백 || 여백 || 여백 ||\n",
      "|| 여백 ||<-3><|2> 3 곱하기 2 ||\n",
      "|| 여백 ||\n",
      "----------\n",
      "|| 여백 || 여백 || 여백 || 여백 ||\n",
      "|| 여백 ||<-3><|2> 3 곱하기 2 ||\n",
      "|| 여백 ||\n",
      "|| 여백 || 여백 || 여백 ||\n",
      "|| 여백 ||<-3><|2> 3 곱하기 2 ||\n",
      "|| 여백 ||\n",
      "|| 여백 || 여백 ||\n",
      "|| 여백 ||<-3><|2> 3 곱하기 2 ||\n",
      "|| 여백 ||\n",
      "|| 여백 ||\n",
      "|| 여백 ||<-3><|2> 3 곱하기 2 ||\n",
      "|| 여백 ||\n",
      "||\n",
      "|| 여백 ||<-3><|2> 3 곱하기 2 ||\n",
      "|| 여백 ||\n",
      "|| 여백 ||<-3><|2> 3 곱하기 2 ||\n",
      "|| 여백 ||\n",
      "||<-3><|2> 3 곱하기 2 ||\n",
      "|| 여백 ||\n",
      "||\n",
      "|| 여백 ||\n",
      "|| 여백 ||\n",
      "||\n",
      "\n",
      "{| class=\"wikitable\" \n",
      "|+ 캡션\n",
      "| 여백 \n",
      "| 여백 \n",
      "| 여백 \n",
      "| 여백 \n",
      "| style=\"display:none\" |  \n",
      "|-\n",
      "| 여백 \n",
      "| colspan=\"3\" rowspan=\"2\" |  3 곱하기 2 \n",
      "| style=\"display:none\" |  \n",
      "|-\n",
      "| 여백 \n",
      "|}\n"
     ]
    },
    {
     "data": {
      "text/plain": [
       "'{| class=\"wikitable\" \\n|+ 캡션\\n| 여백 \\n| 여백 \\n| 여백 \\n| 여백 \\n| style=\"display:none\" |  \\n|-\\n| 여백 \\n| colspan=\"3\" rowspan=\"2\" |  3 곱하기 2 \\n| style=\"display:none\" |  \\n|-\\n| 여백 \\n|}'"
      ]
     },
     "execution_count": 102,
     "metadata": {},
     "output_type": "execute_result"
    }
   ],
   "source": [
    "convert_to_mw_table(\"|캡션| 여백 || 여백 || 여백 || 여백 ||\\n|| 여백 ||<-3><|2> 3 곱하기 2 ||\\n|| 여백 ||\")"
   ]
  }
 ],
 "metadata": {
  "kernelspec": {
   "display_name": "Python 3",
   "language": "python",
   "name": "python3"
  },
  "language_info": {
   "codemirror_mode": {
    "name": "ipython",
    "version": 3
   },
   "file_extension": ".py",
   "mimetype": "text/x-python",
   "name": "python",
   "nbconvert_exporter": "python",
   "pygments_lexer": "ipython3",
   "version": "3.8.10"
  }
 },
 "nbformat": 4,
 "nbformat_minor": 0
}
