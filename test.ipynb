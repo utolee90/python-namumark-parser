{
 "cells": [
  {
   "cell_type": "code",
   "execution_count": 1,
   "metadata": {
    "collapsed": true
   },
   "outputs": [
    {
     "name": "stdout",
     "output_type": "stream",
     "text": [
      "hello\n"
     ]
    }
   ],
   "source": [
    "print(\"hello\")"
   ]
  },
  {
   "cell_type": "code",
   "execution_count": 2,
   "metadata": {
    "collapsed": false,
    "pycharm": {
     "name": "#%%\n"
    }
   },
   "outputs": [],
   "source": [
    "import re\n",
    "\n",
    "list_tag = [\n",
    "            ['*', 'ul'],\n",
    "            ['1.', 'ol class=\"decimal\"'],\n",
    "            ['A.', 'ol class=\"upper-alpha\"'],\n",
    "            ['a.', 'ol class=\"lower-alpha\"'],\n",
    "            ['I.', 'ol class=\"upper-roman\"'],\n",
    "            ['i.', 'ol class=\"lower-roman\"'],\n",
    "        ]\n",
    "\n",
    "# function for list_parser\n",
    "def list_parser(text:str):\n",
    "    global list_tag\n",
    "    list_table = []\n",
    "    open_tag_list = []\n",
    "    lines = text.split('\\n')\n",
    "    res = ''\n",
    "\n",
    "    # 파싱 준비\n",
    "    for list_line in lines:\n",
    "        # 공백 갯수\n",
    "        res_line = list_line_parser(list_line)\n",
    "        list_table.append(res_line)\n",
    "\n",
    "    # 레벨 숫자\n",
    "    lvl = 0\n",
    "    tgn = ''\n",
    "    for tbl in list_table:\n",
    "        # 같은 레벨, 같은 태그명\n",
    "        if lvl == tbl['level'] and tgn == tbl['type']:\n",
    "            res += f\"<li>{tbl['preparsed']}</li>\\n\"\n",
    "        # 같은 레벨, 태그명만 다를 때\n",
    "        elif lvl == tbl['level'] and tgn != tbl['type']:\n",
    "            # 태그 닫기\n",
    "            res += f\"</{tgn[0:2]}>\\n\"\n",
    "            tgn = tbl['type']\n",
    "            open_tag_list[-1] = tgn\n",
    "            res += f\"<{tbl['type']}>\\n\"\n",
    "            res += f\"<li>{tbl['preparsed']}</li>\\n\"\n",
    "        # 레벨값보다 수준이 더 클 때\n",
    "        elif lvl +1 == tbl['level']:\n",
    "            res += f\"<{tbl['type']}>\\n\"\n",
    "            res += f\"<li>{tbl['preparsed']}</li>\\n\"\n",
    "            lvl = tbl['level']\n",
    "            tgn = tbl['type']\n",
    "            open_tag_list.append(tbl['type'])\n",
    "        # 레벨값보다 수준이 더 작을 때\n",
    "        elif lvl > tbl['level']:\n",
    "            for tn in open_tag_list[:tbl['level']-1:-1]:\n",
    "                res += f\"</{tn[0:2]}>\\n\"\n",
    "\n",
    "            open_tag_list = open_tag_list[0:tbl['level']]\n",
    "            lvl = tbl['level']\n",
    "\n",
    "            if open_tag_list[-1] == tbl['type']:\n",
    "                res += f\"<li>{tbl['preparsed']}</li>\\n\"\n",
    "                tgn = tbl['type']\n",
    "            else:\n",
    "                res += f\"</{open_tag_list[-1][0:2]}>\\n\"\n",
    "                res += f\"<{tbl['type']}>\\n\"\n",
    "                res += f\"<li>{tbl['preparsed']}</li>\\n\"\n",
    "                tgn = tbl['type']\n",
    "\n",
    "    # 마지막으로 남아있으면...\n",
    "    for tgx in open_tag_list[::-1]:\n",
    "        res += f\"</{tgx[0:2]}>\\n\"\n",
    "\n",
    "    return res\n",
    "\n",
    "# parse a line\n",
    "def list_line_parser(text:str):\n",
    "    res = {}\n",
    "    # 공백 갯수\n",
    "    spacing = len(re.match(r\"^(\\s{1,5})\", text).group(1))\n",
    "    res['level'] = spacing\n",
    "    if text[spacing] == \"*\":\n",
    "        res['type'] = 'ul'\n",
    "        res['preparsed'] = text[spacing+1:]\n",
    "    else:\n",
    "        for tg in list_tag[1:]:\n",
    "            if text[spacing:spacing+2] == tg[0]:\n",
    "                res['type'] = tg[1]\n",
    "                res['preparsed'] = text[spacing+2:]\n",
    "                break\n",
    "    return res"
   ]
  },
  {
   "cell_type": "code",
   "execution_count": 4,
   "metadata": {
    "collapsed": false,
    "pycharm": {
     "name": "#%%\n"
    }
   },
   "outputs": [
    {
     "data": {
      "text/plain": [
       "{'level': 1, 'type': 'ul', 'preparsed': ' 텍스트'}"
      ]
     },
     "execution_count": 4,
     "metadata": {},
     "output_type": "execute_result"
    }
   ],
   "source": [
    "list_line_parser(' * 텍스트')"
   ]
  },
  {
   "cell_type": "code",
   "execution_count": 5,
   "metadata": {
    "collapsed": false,
    "pycharm": {
     "name": "#%%\n"
    }
   },
   "outputs": [
    {
     "data": {
      "text/plain": [
       "'<ul>\\n<li> 첫나라</li>\\n<li> 두나라</li>\\n<li>\\n<ol class=\"decimal\">\\n<li> 두나라1</li>\\n<li> 두나라2</li>\\n</ol>\\n<li> 세나라</li>\\n</ul>\\n'"
      ]
     },
     "execution_count": 5,
     "metadata": {},
     "output_type": "execute_result"
    }
   ],
   "source": [
    "list_parser(''' * 첫나라\n",
    " * 두나라\n",
    "  1. 두나라1\n",
    "  1. 두나라2\n",
    " * 세나라''')"
   ]
  },
  {
   "cell_type": "code",
   "execution_count": 7,
   "metadata": {
    "collapsed": false,
    "pycharm": {
     "name": "#%%\n"
    }
   },
   "outputs": [],
   "source": [
    "import re\n",
    "import datetime\n",
    "\n",
    "# no multi line processor (한줄 안에 파싱하기)\n",
    "# 문법기호 확인\n",
    "# 파싱할 문법 - {{{, ~~, --, __, ^^, ,,\n",
    "\n",
    "symbol_emphasis = {\n",
    "    \"{{{#\": {\"o\": \"{{{#\", \"c\": \"}}}\"},\n",
    "    \"{{{\": {\"o\": \"{{{\", \"c\": \"}}}\"},\n",
    "    \"~~\": {\"o\": \"~~\", \"c\": \"~~\"},\n",
    "    \"--\": {\"o\": \"--\", \"c\": \"--\"},\n",
    "    \"__\": {\"o\": \"__\", \"c\": \"__\"},\n",
    "    \"^^\": {\"o\": \"^^\", \"c\": \"^^\"},\n",
    "    \",,\": {\"o\": \",,\", \"c\": \",,\"},\n",
    "    \"[*\": {\"o\": \"[*\", \"c\": \"]\"},\n",
    "    \"[[\": {\"o\": \"[[\", \"c\": \"]]\"}\n",
    "}\n",
    "\n",
    "# [매크로] 목록\n",
    "\n",
    "\n",
    "# [매크로] 입력시 처리\n",
    "def macro_processor(text):\n",
    "\n",
    "    const_macro_list = {\n",
    "        \"br\": \"<br />\",\n",
    "        \"date\": \"{{#timel:Y-m-d H:i:sP}}\",\n",
    "        \"datetime\": \"{{#timel:Y-m-d H:i:sP}}\",\n",
    "        \"목차\": \"__TOC__\", #일단 표시. 그러나 목차 길이가 충분히 길면 지울 생각\n",
    "        \"tableofcontents\": \"__TOC__\",\n",
    "        \"각주\": \"{{각주}}\",\n",
    "        \"footnote\": \"{{각주}}\",\n",
    "        \"clearfix\": \"{{-}}\"\n",
    "    }\n",
    "    # 단순 텍스트일 때\n",
    "    if text in const_macro_list.keys():\n",
    "        return const_macro_list[text]\n",
    "\n",
    "    # 만 나이 표시\n",
    "    elif re.match(r\"age\\(\\d\\d\\d\\d-\\d\\d-\\d\\d\\)\", text):\n",
    "        yr = re.match(r\"age\\((\\d\\d\\d\\d)-(\\d\\d)-(\\d\\d)\\)\", text).group(1)\n",
    "        mn = re.match(r\"age\\((\\d\\d\\d\\d)-(\\d\\d)-(\\d\\d)\\)\", text).group(2)\n",
    "        dy = re.match(r\"age\\((\\d\\d\\d\\d)-(\\d\\d)-(\\d\\d)\\)\", text).group(3)\n",
    "        return f\"{{{{#expr: {{{{현재년}}}} - {yr} - ({{{{현재월}}}} <= {mn} and {{{{현재일}}}} < {dy})}}}}\"\n",
    "\n",
    "    # 잔여일수/경과일수 표시\n",
    "    elif re.match(r\"dday\\(\\d\\d\\d\\d-\\d\\d-\\d\\d\\)\", text):\n",
    "        yr = re.match(r\"dday\\((\\d\\d\\d\\d)-(\\d\\d)-(\\d\\d)\\)\", text).group(1)\n",
    "        mn = re.match(r\"dday\\((\\d\\d\\d\\d)-(\\d\\d)-(\\d\\d)\\)\", text).group(2)\n",
    "        dy = re.match(r\"dday\\((\\d\\d\\d\\d)-(\\d\\d)-(\\d\\d)\\)\", text).group(3)\n",
    "\n",
    "        return f\"{{{{#ifexpr:{{{{#time:U|now}}}} - {{{{#time:U|{yr}-{mn}-{dy}}}}}>0|+}}}}{{{{#expr:floor (({{{{#time:U|now}}}} - {{{{#time:U|{yr}-{mn}-{dy}}}}})/86400)}}}}\"\n",
    "\n",
    "    # 수식 기호\n",
    "    elif re.match(r\"math\\((.*)\\)\", text):\n",
    "        tex = re.match(r\"math\\((.*)\\)\", text).group(1)\n",
    "        return f\"<math>{tex}</math>\"\n",
    "\n",
    "    else:\n",
    "        return \"\"\n",
    "\n",
    "\n",
    "# 개행 없을 때 symbol로 구성 나누기"
   ]
  },
  {
   "cell_type": "code",
   "execution_count": 22,
   "metadata": {
    "collapsed": false,
    "pycharm": {
     "name": "#%%\n"
    }
   },
   "outputs": [
    {
     "data": {
      "text/plain": [
       "'<math>\\x0crac{4}{5}</math>'"
      ]
     },
     "execution_count": 22,
     "metadata": {},
     "output_type": "execute_result"
    }
   ],
   "source": [
    "macro_processor('math(\\frac{4}{5})')"
   ]
  },
  {
   "cell_type": "code",
   "execution_count": 137,
   "metadata": {},
   "outputs": [],
   "source": [
    "import re\n",
    "# <nowiki> 태그 삽입\n",
    "def convert_to_escape_markup(text:str):\n",
    "    while re.search(r\"\\\\\", text) and re.search(r\"\\\\\", text).start() != -1:\n",
    "        matchpoint = re.search(r\"\\\\\", text).start()\n",
    "        text = text[0:matchpoint] + \"<nowiki>\" + text[matchpoint+1] + \"</nowiki>\" + text[matchpoint+2:]\n",
    "    return text"
   ]
  },
  {
   "cell_type": "code",
   "execution_count": 138,
   "metadata": {},
   "outputs": [
    {
     "data": {
      "text/plain": [
       "'gkt한글테스트<nowiki>[</nowiki>[test]]'"
      ]
     },
     "execution_count": 138,
     "metadata": {},
     "output_type": "execute_result"
    }
   ],
   "source": [
    "convert_to_escape_markup(\"gkt한글테스트\\\\[[test]]\")"
   ]
  },
  {
   "cell_type": "code",
   "execution_count": null,
   "metadata": {},
   "outputs": [],
   "source": []
  }
 ],
 "metadata": {
  "kernelspec": {
   "display_name": "Python 3",
   "language": "python",
   "name": "python3"
  },
  "language_info": {
   "codemirror_mode": {
    "name": "ipython",
    "version": 3
   },
   "file_extension": ".py",
   "mimetype": "text/x-python",
   "name": "python",
   "nbconvert_exporter": "python",
   "pygments_lexer": "ipython3",
   "version": "3.8.10"
  }
 },
 "nbformat": 4,
 "nbformat_minor": 0
}
