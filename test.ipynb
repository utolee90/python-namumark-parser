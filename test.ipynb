{
 "cells": [
  {
   "cell_type": "code",
   "execution_count": 1,
   "metadata": {
    "collapsed": true
   },
   "outputs": [
    {
     "name": "stdout",
     "output_type": "stream",
     "text": [
      "hello\n"
     ]
    }
   ],
   "source": [
    "print(\"hello\")"
   ]
  },
  {
   "cell_type": "code",
   "execution_count": 2,
   "outputs": [],
   "source": [
    "import re\n",
    "\n",
    "list_tag = [\n",
    "            ['*', 'ul'],\n",
    "            ['1.', 'ol class=\"decimal\"'],\n",
    "            ['A.', 'ol class=\"upper-alpha\"'],\n",
    "            ['a.', 'ol class=\"lower-alpha\"'],\n",
    "            ['I.', 'ol class=\"upper-roman\"'],\n",
    "            ['i.', 'ol class=\"lower-roman\"'],\n",
    "        ]\n",
    "\n",
    "# function for list_parser\n",
    "def list_parser(text:str):\n",
    "    global list_tag\n",
    "    list_table = []\n",
    "    open_tag_list = []\n",
    "    lines = text.split('\\n')\n",
    "    res = ''\n",
    "\n",
    "    # 파싱 준비\n",
    "    for list_line in lines:\n",
    "        # 공백 갯수\n",
    "        res_line = list_line_parser(list_line)\n",
    "        list_table.append(res_line)\n",
    "\n",
    "    # 레벨 숫자\n",
    "    lvl = 0\n",
    "    tgn = ''\n",
    "    for tbl in list_table:\n",
    "        # 같은 레벨, 같은 태그명\n",
    "        if lvl == tbl['level'] and tgn == tbl['type']:\n",
    "            res += f\"<li>{tbl['preparsed']}</li>\\n\"\n",
    "        # 같은 레벨, 태그명만 다를 때\n",
    "        elif lvl == tbl['level'] and tgn != tbl['type']:\n",
    "            # 태그 닫기\n",
    "            res += f\"</{tgn[0:2]}>\\n\"\n",
    "            tgn = tbl['type']\n",
    "            open_tag_list[-1] = tgn\n",
    "            res += f\"<{tbl['type']}>\\n\"\n",
    "            res += f\"<li>{tbl['preparsed']}</li>\\n\"\n",
    "        # 레벨값보다 수준이 더 클 때\n",
    "        elif lvl +1 == tbl['level']:\n",
    "            res += f\"<{tbl['type']}>\\n\"\n",
    "            res += f\"<li>{tbl['preparsed']}</li>\\n\"\n",
    "            lvl = tbl['level']\n",
    "            tgn = tbl['type']\n",
    "            open_tag_list.append(tbl['type'])\n",
    "        # 레벨값보다 수준이 더 작을 때\n",
    "        elif lvl > tbl['level']:\n",
    "            for tn in open_tag_list[:tbl['level']-1:-1]:\n",
    "                res += f\"</{tn[0:2]}>\\n\"\n",
    "\n",
    "            open_tag_list = open_tag_list[0:tbl['level']]\n",
    "            lvl = tbl['level']\n",
    "\n",
    "            if open_tag_list[-1] == tbl['type']:\n",
    "                res += f\"<li>{tbl['preparsed']}</li>\\n\"\n",
    "                tgn = tbl['type']\n",
    "            else:\n",
    "                res += f\"</{open_tag_list[-1][0:2]}>\\n\"\n",
    "                res += f\"<{tbl['type']}>\\n\"\n",
    "                res += f\"<li>{tbl['preparsed']}</li>\\n\"\n",
    "                tgn = tbl['type']\n",
    "\n",
    "    # 마지막으로 남아있으면...\n",
    "    for tgx in open_tag_list[::-1]:\n",
    "        res += f\"</{tgx[0:2]}>\\n\"\n",
    "\n",
    "    return res\n",
    "\n",
    "# parse a line\n",
    "def list_line_parser(text:str):\n",
    "    res = {}\n",
    "    # 공백 갯수\n",
    "    spacing = len(re.match(r\"^(\\s{1,5})\", text).group(1))\n",
    "    res['level'] = spacing\n",
    "    if text[spacing] == \"*\":\n",
    "        res['type'] = 'ul'\n",
    "        res['preparsed'] = text[spacing+1:]\n",
    "    else:\n",
    "        for tg in list_tag[1:]:\n",
    "            if text[spacing:spacing+2] == tg[0]:\n",
    "                res['type'] = tg[1]\n",
    "                res['preparsed'] = text[spacing+2:]\n",
    "                break\n",
    "    return res"
   ],
   "metadata": {
    "collapsed": false,
    "pycharm": {
     "name": "#%%\n"
    }
   }
  },
  {
   "cell_type": "code",
   "execution_count": 4,
   "outputs": [
    {
     "data": {
      "text/plain": "{'level': 1, 'type': 'ul', 'preparsed': ' 텍스트'}"
     },
     "execution_count": 4,
     "metadata": {},
     "output_type": "execute_result"
    }
   ],
   "source": [
    "list_line_parser(' * 텍스트')"
   ],
   "metadata": {
    "collapsed": false,
    "pycharm": {
     "name": "#%%\n"
    }
   }
  },
  {
   "cell_type": "code",
   "execution_count": 5,
   "outputs": [
    {
     "data": {
      "text/plain": "'<ul>\\n<li> 첫나라</li>\\n<li> 두나라</li>\\n<li>\\n<ol class=\"decimal\">\\n<li> 두나라1</li>\\n<li> 두나라2</li>\\n</ol>\\n<li> 세나라</li>\\n</ul>\\n'"
     },
     "execution_count": 5,
     "metadata": {},
     "output_type": "execute_result"
    }
   ],
   "source": [
    "list_parser(''' * 첫나라\n",
    " * 두나라\n",
    "  1. 두나라1\n",
    "  1. 두나라2\n",
    " * 세나라''')"
   ],
   "metadata": {
    "collapsed": false,
    "pycharm": {
     "name": "#%%\n"
    }
   }
  }
 ],
 "metadata": {
  "kernelspec": {
   "display_name": "Python 3",
   "language": "python",
   "name": "python3"
  },
  "language_info": {
   "codemirror_mode": {
    "name": "ipython",
    "version": 2
   },
   "file_extension": ".py",
   "mimetype": "text/x-python",
   "name": "python",
   "nbconvert_exporter": "python",
   "pygments_lexer": "ipython2",
   "version": "2.7.6"
  }
 },
 "nbformat": 4,
 "nbformat_minor": 0
}