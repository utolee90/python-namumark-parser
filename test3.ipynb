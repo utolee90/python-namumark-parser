{
 "cells": [
  {
   "cell_type": "code",
   "execution_count": 1,
   "metadata": {},
   "outputs": [],
   "source": [
    "import re\n",
    "import namumark"
   ]
  },
  {
   "cell_type": "code",
   "execution_count": 2,
   "metadata": {},
   "outputs": [],
   "source": [
    "txt = \"\"\">text\n",
    ">text2\n",
    ">>double_quote\n",
    ">return\n",
    "\"\"\"\n",
    "\n",
    "testing = namumark.NamuMark({'title':'testing', 'text':txt })"
   ]
  },
  {
   "cell_type": "code",
   "execution_count": 3,
   "metadata": {},
   "outputs": [
    {
     "name": "stdout",
     "output_type": "stream",
     "text": [
      "function_start!!!\n",
      "text_wo_bq:  text\n",
      "text2\n",
      ">double_quote\n",
      "return\n",
      "\n",
      "\n",
      "tmp_line :  text\n",
      " 0\n",
      "tmp_line :  text2\n",
      " 5\n",
      "tmp_line :  >double_quote\n",
      " 11\n",
      "tmp_etc :  text\n",
      "text2\n",
      "\n",
      "tmp_line :  return\n",
      " 25\n",
      "function_start!!!\n",
      "text_wo_bq:  double_quote\n",
      "\n",
      "endL--\n",
      "tmp_line :  double_quote 0\n",
      "tmp_etc:  double_quote\n",
      "function_end\n",
      "tmp_block :  \n",
      "function_end\n"
     ]
    },
    {
     "data": {
      "text/plain": [
       "'<blockquote style=\"border: 1px dashed grey; border-left: 3px solid #4188f1; padding:2px; margin:5px;\">\\ntext<br />text2\\n<blockquote style=\"border: 1px dashed grey; border-left: 3px solid #4188f1; padding:2px; margin:5px;\">\\ndouble_quote\\n</blockquote>\\n\\n</blockquote>\\n\\n'"
      ]
     },
     "execution_count": 3,
     "metadata": {},
     "output_type": "execute_result"
    }
   ],
   "source": [
    "testing.parse_mw()"
   ]
  },
  {
   "cell_type": "code",
   "execution_count": 4,
   "metadata": {},
   "outputs": [
    {
     "name": "stdout",
     "output_type": "stream",
     "text": [
      "function_start!!!\n",
      "text_wo_bq:  text\n",
      "text2\n",
      ">double_quote\n",
      "return\n",
      "\n",
      "\n",
      "tmp_line :  text\n",
      " 0\n",
      "tmp_line :  text2\n",
      " 5\n",
      "tmp_line :  >double_quote\n",
      " 11\n",
      "tmp_etc :  text\n",
      "text2\n",
      "\n",
      "tmp_line :  return\n",
      " 25\n",
      "function_start!!!\n",
      "text_wo_bq:  double_quote\n",
      "\n",
      "tmp_line :  double_quote 0\n",
      "tmp_etc:  double_quote\n",
      "function_end\n",
      "tmp_block :  \n",
      "function_end\n"
     ]
    },
    {
     "data": {
      "text/plain": [
       "'<blockquote style=\"border: 1px dashed grey; border-left: 3px solid #4188f1; padding:2px; margin:5px;\">\\ntext<br />text2\\n<blockquote style=\"border: 1px dashed grey; border-left: 3px solid #4188f1; padding:2px; margin:5px;\">\\ndouble_quote\\n</blockquote>\\n\\n</blockquote>'"
      ]
     },
     "execution_count": 4,
     "metadata": {},
     "output_type": "execute_result"
    }
   ],
   "source": [
    "testing.bq_parser(txt)"
   ]
  }
 ],
 "metadata": {
  "kernelspec": {
   "display_name": "Python 3",
   "language": "python",
   "name": "python3"
  },
  "language_info": {
   "codemirror_mode": {
    "name": "ipython",
    "version": 3
   },
   "file_extension": ".py",
   "mimetype": "text/x-python",
   "name": "python",
   "nbconvert_exporter": "python",
   "pygments_lexer": "ipython3",
   "version": "3.8.5"
  }
 },
 "nbformat": 4,
 "nbformat_minor": 4
}
